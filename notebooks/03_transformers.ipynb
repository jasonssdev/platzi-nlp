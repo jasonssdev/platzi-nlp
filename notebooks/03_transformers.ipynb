{
 "cells": [
  {
   "cell_type": "code",
   "execution_count": 2,
   "id": "c51334eb",
   "metadata": {},
   "outputs": [],
   "source": [
    "import pandas as pd\n",
    "import numpy as np\n",
    "import matplotlib.pyplot as plt\n",
    "import seaborn as sns\n",
    "from pathlib import Path\n",
    "from utils.paths import DATA_RAW_DIR, DATA_PROCESSED_DIR, MODELS_DIR\n",
    "\n",
    "from sklearn.feature_extraction.text import CountVectorizer, TfidfVectorizer\n",
    "\n",
    "from sklearn.decomposition import LatentDirichletAllocation\n",
    "\n",
    "from sklearn.model_selection import train_test_split\n",
    "from sklearn.naive_bayes import MultinomialNB\n",
    "from sklearn.metrics import classification_report, accuracy_score\n",
    "\n",
    "import joblib\n",
    "\n",
    "import re\n",
    "import string\n",
    "\n",
    "import nltk\n",
    "from nltk.corpus import stopwords\n",
    "import spacy\n",
    "\n",
    "from transformers import AutoTokenizer\n",
    "from transformers.pipelines import pipeline"
   ]
  },
  {
   "cell_type": "code",
   "execution_count": 3,
   "id": "4e346c45",
   "metadata": {},
   "outputs": [
    {
     "name": "stdout",
     "output_type": "stream",
     "text": [
      "True\n"
     ]
    }
   ],
   "source": [
    "reviews_path = DATA_RAW_DIR / \"reviews.csv\"\n",
    "print(Path(reviews_path).exists())"
   ]
  },
  {
   "cell_type": "code",
   "execution_count": 4,
   "id": "962118c6",
   "metadata": {},
   "outputs": [
    {
     "data": {
      "application/vnd.microsoft.datawrangler.viewer.v0+json": {
       "columns": [
        {
         "name": "index",
         "rawType": "int64",
         "type": "integer"
        },
        {
         "name": "review_id",
         "rawType": "object",
         "type": "string"
        },
        {
         "name": "product_id",
         "rawType": "object",
         "type": "string"
        },
        {
         "name": "reviewer_id",
         "rawType": "object",
         "type": "string"
        },
        {
         "name": "stars",
         "rawType": "int64",
         "type": "integer"
        },
        {
         "name": "review_body",
         "rawType": "object",
         "type": "string"
        },
        {
         "name": "review_title",
         "rawType": "object",
         "type": "string"
        },
        {
         "name": "language",
         "rawType": "object",
         "type": "string"
        },
        {
         "name": "product_category",
         "rawType": "object",
         "type": "string"
        }
       ],
       "ref": "8dc53106-43a1-4306-abe0-f7e344e84e3a",
       "rows": [
        [
         "0",
         "es_0491108",
         "product_es_0296024",
         "reviewer_es_0999081",
         "1",
         "Nada bueno se me fue ka pantalla en menos de 8 meses y no he recibido respuesta del fabricante",
         "television Nevir",
         "es",
         "electronics"
        ],
        [
         "1",
         "es_0869872",
         "product_es_0922286",
         "reviewer_es_0216771",
         "1",
         "Horrible, nos tuvimos que comprar otro porque ni nosotros que sabemos inglés, ni un informático, después de una hora fue capaz de instalarlo",
         "Dinero tirado a la basura con esta compra",
         "es",
         "electronics"
        ],
        [
         "2",
         "es_0811721",
         "product_es_0474543",
         "reviewer_es_0929213",
         "1",
         "Te obligan a comprar dos unidades y te llega solo una y no hay forma de reclamar, una autentica estafa, no compreis!!",
         "solo llega una unidad cuando te obligan a comprar dos",
         "es",
         "drugstore"
        ],
        [
         "3",
         "es_0359921",
         "product_es_0656090",
         "reviewer_es_0224702",
         "1",
         "No entro en descalificar al vendedor, solo puedo decir que tras dos meses de espera.... sigo sin el producto y tuve que contactar con Amazon para reclamar su reembolso. Amazon un 10 . Se hace cargo del problema, pero yo e desembolsado mi dinero y en dos meses me lo devuelven Perdida de tiempo TOTAL. Sin palabras. Y Ustedes deciden",
         "PRODUCTO NO RECIBIDO.",
         "es",
         "wireless"
        ],
        [
         "4",
         "es_0068940",
         "product_es_0662544",
         "reviewer_es_0224827",
         "1",
         "Llega tarde y co la talla equivocada",
         "Devuelto",
         "es",
         "shoes"
        ]
       ],
       "shape": {
        "columns": 8,
        "rows": 5
       }
      },
      "text/html": [
       "<div>\n",
       "<style scoped>\n",
       "    .dataframe tbody tr th:only-of-type {\n",
       "        vertical-align: middle;\n",
       "    }\n",
       "\n",
       "    .dataframe tbody tr th {\n",
       "        vertical-align: top;\n",
       "    }\n",
       "\n",
       "    .dataframe thead th {\n",
       "        text-align: right;\n",
       "    }\n",
       "</style>\n",
       "<table border=\"1\" class=\"dataframe\">\n",
       "  <thead>\n",
       "    <tr style=\"text-align: right;\">\n",
       "      <th></th>\n",
       "      <th>review_id</th>\n",
       "      <th>product_id</th>\n",
       "      <th>reviewer_id</th>\n",
       "      <th>stars</th>\n",
       "      <th>review_body</th>\n",
       "      <th>review_title</th>\n",
       "      <th>language</th>\n",
       "      <th>product_category</th>\n",
       "    </tr>\n",
       "  </thead>\n",
       "  <tbody>\n",
       "    <tr>\n",
       "      <th>0</th>\n",
       "      <td>es_0491108</td>\n",
       "      <td>product_es_0296024</td>\n",
       "      <td>reviewer_es_0999081</td>\n",
       "      <td>1</td>\n",
       "      <td>Nada bueno se me fue ka pantalla en menos de 8...</td>\n",
       "      <td>television Nevir</td>\n",
       "      <td>es</td>\n",
       "      <td>electronics</td>\n",
       "    </tr>\n",
       "    <tr>\n",
       "      <th>1</th>\n",
       "      <td>es_0869872</td>\n",
       "      <td>product_es_0922286</td>\n",
       "      <td>reviewer_es_0216771</td>\n",
       "      <td>1</td>\n",
       "      <td>Horrible, nos tuvimos que comprar otro porque ...</td>\n",
       "      <td>Dinero tirado a la basura con esta compra</td>\n",
       "      <td>es</td>\n",
       "      <td>electronics</td>\n",
       "    </tr>\n",
       "    <tr>\n",
       "      <th>2</th>\n",
       "      <td>es_0811721</td>\n",
       "      <td>product_es_0474543</td>\n",
       "      <td>reviewer_es_0929213</td>\n",
       "      <td>1</td>\n",
       "      <td>Te obligan a comprar dos unidades y te llega s...</td>\n",
       "      <td>solo llega una unidad cuando te obligan a comp...</td>\n",
       "      <td>es</td>\n",
       "      <td>drugstore</td>\n",
       "    </tr>\n",
       "    <tr>\n",
       "      <th>3</th>\n",
       "      <td>es_0359921</td>\n",
       "      <td>product_es_0656090</td>\n",
       "      <td>reviewer_es_0224702</td>\n",
       "      <td>1</td>\n",
       "      <td>No entro en descalificar al vendedor, solo pue...</td>\n",
       "      <td>PRODUCTO NO RECIBIDO.</td>\n",
       "      <td>es</td>\n",
       "      <td>wireless</td>\n",
       "    </tr>\n",
       "    <tr>\n",
       "      <th>4</th>\n",
       "      <td>es_0068940</td>\n",
       "      <td>product_es_0662544</td>\n",
       "      <td>reviewer_es_0224827</td>\n",
       "      <td>1</td>\n",
       "      <td>Llega tarde y co la talla equivocada</td>\n",
       "      <td>Devuelto</td>\n",
       "      <td>es</td>\n",
       "      <td>shoes</td>\n",
       "    </tr>\n",
       "  </tbody>\n",
       "</table>\n",
       "</div>"
      ],
      "text/plain": [
       "    review_id          product_id          reviewer_id  stars  \\\n",
       "0  es_0491108  product_es_0296024  reviewer_es_0999081      1   \n",
       "1  es_0869872  product_es_0922286  reviewer_es_0216771      1   \n",
       "2  es_0811721  product_es_0474543  reviewer_es_0929213      1   \n",
       "3  es_0359921  product_es_0656090  reviewer_es_0224702      1   \n",
       "4  es_0068940  product_es_0662544  reviewer_es_0224827      1   \n",
       "\n",
       "                                         review_body  \\\n",
       "0  Nada bueno se me fue ka pantalla en menos de 8...   \n",
       "1  Horrible, nos tuvimos que comprar otro porque ...   \n",
       "2  Te obligan a comprar dos unidades y te llega s...   \n",
       "3  No entro en descalificar al vendedor, solo pue...   \n",
       "4               Llega tarde y co la talla equivocada   \n",
       "\n",
       "                                        review_title language product_category  \n",
       "0                                   television Nevir       es      electronics  \n",
       "1          Dinero tirado a la basura con esta compra       es      electronics  \n",
       "2  solo llega una unidad cuando te obligan a comp...       es        drugstore  \n",
       "3                              PRODUCTO NO RECIBIDO.       es         wireless  \n",
       "4                                           Devuelto       es            shoes  "
      ]
     },
     "execution_count": 4,
     "metadata": {},
     "output_type": "execute_result"
    }
   ],
   "source": [
    "df_reviews = pd.read_csv(reviews_path, sep=\",\", encoding=\"utf-8\")\n",
    "df_reviews.head()"
   ]
  },
  {
   "cell_type": "markdown",
   "id": "c9f2860c",
   "metadata": {},
   "source": [
    "# Tokenizer with Transformers"
   ]
  },
  {
   "cell_type": "code",
   "execution_count": 5,
   "id": "4afc4502",
   "metadata": {},
   "outputs": [
    {
     "data": {
      "application/vnd.jupyter.widget-view+json": {
       "model_id": "a6e2f704ab4e4a0c91b58c51fd5de2cf",
       "version_major": 2,
       "version_minor": 0
      },
      "text/plain": [
       "tokenizer_config.json:   0%|          | 0.00/364 [00:00<?, ?B/s]"
      ]
     },
     "metadata": {},
     "output_type": "display_data"
    },
    {
     "data": {
      "application/vnd.jupyter.widget-view+json": {
       "model_id": "f4b5fb86e7c247c0bacfa9755a16678a",
       "version_major": 2,
       "version_minor": 0
      },
      "text/plain": [
       "config.json:   0%|          | 0.00/648 [00:00<?, ?B/s]"
      ]
     },
     "metadata": {},
     "output_type": "display_data"
    },
    {
     "data": {
      "application/vnd.jupyter.widget-view+json": {
       "model_id": "42b4a3ff6fa3492baa5f2a5971a5c95a",
       "version_major": 2,
       "version_minor": 0
      },
      "text/plain": [
       "vocab.txt: 0.00B [00:00, ?B/s]"
      ]
     },
     "metadata": {},
     "output_type": "display_data"
    },
    {
     "data": {
      "application/vnd.jupyter.widget-view+json": {
       "model_id": "ea5f9ced3bee483a8591ad6f404a2b18",
       "version_major": 2,
       "version_minor": 0
      },
      "text/plain": [
       "tokenizer.json: 0.00B [00:00, ?B/s]"
      ]
     },
     "metadata": {},
     "output_type": "display_data"
    },
    {
     "data": {
      "application/vnd.jupyter.widget-view+json": {
       "model_id": "d61f6c4a664b4f66b5b1d8e6317f1edb",
       "version_major": 2,
       "version_minor": 0
      },
      "text/plain": [
       "special_tokens_map.json:   0%|          | 0.00/134 [00:00<?, ?B/s]"
      ]
     },
     "metadata": {},
     "output_type": "display_data"
    }
   ],
   "source": [
    "# load tokenizer in spanish\n",
    "tokenizer = AutoTokenizer.from_pretrained(\"dccuchile/bert-base-spanish-wwm-cased\")"
   ]
  },
  {
   "cell_type": "code",
   "execution_count": 6,
   "id": "c659e57c",
   "metadata": {},
   "outputs": [
    {
     "data": {
      "text/plain": [
       "Index(['review_id', 'product_id', 'reviewer_id', 'stars', 'review_body',\n",
       "       'review_title', 'language', 'product_category'],\n",
       "      dtype='object')"
      ]
     },
     "execution_count": 6,
     "metadata": {},
     "output_type": "execute_result"
    }
   ],
   "source": [
    "df_reviews.columns"
   ]
  },
  {
   "cell_type": "code",
   "execution_count": 7,
   "id": "71c1ca1d",
   "metadata": {},
   "outputs": [
    {
     "data": {
      "text/plain": [
       "'Nada bueno se me fue ka pantalla en menos de 8 meses y no he recibido respuesta del fabricante'"
      ]
     },
     "execution_count": 7,
     "metadata": {},
     "output_type": "execute_result"
    }
   ],
   "source": [
    "# sample text\n",
    "\n",
    "sample_text = df_reviews['review_body'].iloc[0]\n",
    "sample_text"
   ]
  },
  {
   "cell_type": "code",
   "execution_count": 8,
   "id": "334a2cda",
   "metadata": {},
   "outputs": [
    {
     "name": "stdout",
     "output_type": "stream",
     "text": [
      "['Nada', 'bueno', 'se', 'me', 'fue', 'k', '##a', 'pantalla', 'en', 'menos', 'de', '8', 'meses', 'y', 'no', 'he', 'recibido', 'respuesta', 'del', 'fabricante']\n"
     ]
    }
   ],
   "source": [
    "tokens = tokenizer.tokenize(sample_text)\n",
    "print(tokens)"
   ]
  },
  {
   "cell_type": "markdown",
   "id": "9d0be9fd",
   "metadata": {},
   "source": [
    "# Classification with Pre-trined models"
   ]
  },
  {
   "cell_type": "code",
   "execution_count": 9,
   "id": "582e8c30",
   "metadata": {},
   "outputs": [
    {
     "data": {
      "application/vnd.jupyter.widget-view+json": {
       "model_id": "18a90afb2e8e4bbea0d780c50d7026da",
       "version_major": 2,
       "version_minor": 0
      },
      "text/plain": [
       "config.json:   0%|          | 0.00/953 [00:00<?, ?B/s]"
      ]
     },
     "metadata": {},
     "output_type": "display_data"
    },
    {
     "data": {
      "application/vnd.jupyter.widget-view+json": {
       "model_id": "16ea47a1b6994f9b9621df5d14f062c3",
       "version_major": 2,
       "version_minor": 0
      },
      "text/plain": [
       "model.safetensors:   0%|          | 0.00/669M [00:00<?, ?B/s]"
      ]
     },
     "metadata": {},
     "output_type": "display_data"
    },
    {
     "data": {
      "application/vnd.jupyter.widget-view+json": {
       "model_id": "13781863573a45bbae43b67179180224",
       "version_major": 2,
       "version_minor": 0
      },
      "text/plain": [
       "tokenizer_config.json:   0%|          | 0.00/39.0 [00:00<?, ?B/s]"
      ]
     },
     "metadata": {},
     "output_type": "display_data"
    },
    {
     "data": {
      "application/vnd.jupyter.widget-view+json": {
       "model_id": "0a87ca81c4b34661a77d7857fe376730",
       "version_major": 2,
       "version_minor": 0
      },
      "text/plain": [
       "vocab.txt: 0.00B [00:00, ?B/s]"
      ]
     },
     "metadata": {},
     "output_type": "display_data"
    },
    {
     "data": {
      "application/vnd.jupyter.widget-view+json": {
       "model_id": "e7cd4e841c594827af2a0a1284c5e3ec",
       "version_major": 2,
       "version_minor": 0
      },
      "text/plain": [
       "special_tokens_map.json:   0%|          | 0.00/112 [00:00<?, ?B/s]"
      ]
     },
     "metadata": {},
     "output_type": "display_data"
    },
    {
     "name": "stderr",
     "output_type": "stream",
     "text": [
      "Device set to use mps:0\n"
     ]
    }
   ],
   "source": [
    "# sentimental pipeline\n",
    "sentiment_pipeline = pipeline(\"sentiment-analysis\", model=\"nlptown/bert-base-multilingual-uncased-sentiment\")"
   ]
  },
  {
   "cell_type": "code",
   "execution_count": 10,
   "id": "fd1fb7a0",
   "metadata": {},
   "outputs": [
    {
     "name": "stderr",
     "output_type": "stream",
     "text": [
      "/opt/anaconda3/envs/nlp-py313/lib/python3.13/site-packages/torch/nn/modules/module.py:1762: FutureWarning: `encoder_attention_mask` is deprecated and will be removed in version 4.55.0 for `BertSdpaSelfAttention.forward`.\n",
      "  return forward_call(*args, **kwargs)\n"
     ]
    },
    {
     "name": "stdout",
     "output_type": "stream",
     "text": [
      "[{'label': '5 stars', 'score': 0.8591135144233704}]\n"
     ]
    }
   ],
   "source": [
    "# new review\n",
    "\n",
    "new_review = \"Me encanta este producto, es increíble y funciona muy bien.\"\n",
    "# predict sentiment\n",
    "result = sentiment_pipeline(new_review)\n",
    "print(result)"
   ]
  },
  {
   "cell_type": "code",
   "execution_count": 11,
   "id": "70a09a6a",
   "metadata": {},
   "outputs": [
    {
     "name": "stdout",
     "output_type": "stream",
     "text": [
      "Texto de ejemplo: Lo odio ;)!\n",
      "Resultado del análisis de sentimiento: [{'label': '5 stars', 'score': 0.6157907247543335}]\n"
     ]
    }
   ],
   "source": [
    "new_review = \"Lo odio ;)!\"\n",
    "result = sentiment_pipeline(new_review)\n",
    "\n",
    "print(\"Texto de ejemplo:\", new_review)\n",
    "print(\"Resultado del análisis de sentimiento:\", result)"
   ]
  },
  {
   "cell_type": "code",
   "execution_count": 12,
   "id": "902e052d",
   "metadata": {},
   "outputs": [
    {
     "name": "stdout",
     "output_type": "stream",
     "text": [
      "Texto de ejemplo: me encanto?\n",
      "Resultado del análisis de sentimiento: [{'label': '5 stars', 'score': 0.4976471960544586}]\n"
     ]
    }
   ],
   "source": [
    "new_review = \"me encanto?\"\n",
    "result = sentiment_pipeline(new_review)\n",
    "\n",
    "print(\"Texto de ejemplo:\", new_review)\n",
    "print(\"Resultado del análisis de sentimiento:\", result)"
   ]
  },
  {
   "cell_type": "code",
   "execution_count": 13,
   "id": "31f5967e",
   "metadata": {},
   "outputs": [
    {
     "name": "stdout",
     "output_type": "stream",
     "text": [
      "Texto de ejemplo: me encanto!!!!!!!\n",
      "Resultado del análisis de sentimiento: [{'label': '5 stars', 'score': 0.8658758401870728}]\n"
     ]
    }
   ],
   "source": [
    "new_review = \"me encanto!!!!!!!\"\n",
    "result = sentiment_pipeline(new_review)\n",
    "\n",
    "print(\"Texto de ejemplo:\", new_review)\n",
    "print(\"Resultado del análisis de sentimiento:\", result)"
   ]
  },
  {
   "cell_type": "markdown",
   "id": "180bf075",
   "metadata": {},
   "source": [
    "# NER"
   ]
  },
  {
   "cell_type": "code",
   "execution_count": 14,
   "id": "da8334d1",
   "metadata": {},
   "outputs": [
    {
     "data": {
      "application/vnd.jupyter.widget-view+json": {
       "model_id": "e70d7bd34594400cb6650dc3fd99a00a",
       "version_major": 2,
       "version_minor": 0
      },
      "text/plain": [
       "config.json:   0%|          | 0.00/829 [00:00<?, ?B/s]"
      ]
     },
     "metadata": {},
     "output_type": "display_data"
    },
    {
     "data": {
      "application/vnd.jupyter.widget-view+json": {
       "model_id": "45f19f84143c4b6d95fd2ba27621098e",
       "version_major": 2,
       "version_minor": 0
      },
      "text/plain": [
       "pytorch_model.bin:   0%|          | 0.00/439M [00:00<?, ?B/s]"
      ]
     },
     "metadata": {},
     "output_type": "display_data"
    },
    {
     "name": "stderr",
     "output_type": "stream",
     "text": [
      "Some weights of the model checkpoint at mrm8488/bert-spanish-cased-finetuned-ner were not used when initializing BertForTokenClassification: ['bert.pooler.dense.bias', 'bert.pooler.dense.weight']\n",
      "- This IS expected if you are initializing BertForTokenClassification from the checkpoint of a model trained on another task or with another architecture (e.g. initializing a BertForSequenceClassification model from a BertForPreTraining model).\n",
      "- This IS NOT expected if you are initializing BertForTokenClassification from the checkpoint of a model that you expect to be exactly identical (initializing a BertForSequenceClassification model from a BertForSequenceClassification model).\n"
     ]
    },
    {
     "data": {
      "application/vnd.jupyter.widget-view+json": {
       "model_id": "36afe276d5ca4efd83cd058b01891e65",
       "version_major": 2,
       "version_minor": 0
      },
      "text/plain": [
       "tokenizer_config.json:   0%|          | 0.00/136 [00:00<?, ?B/s]"
      ]
     },
     "metadata": {},
     "output_type": "display_data"
    },
    {
     "data": {
      "application/vnd.jupyter.widget-view+json": {
       "model_id": "a18380510407486dbe676df01b2e288d",
       "version_major": 2,
       "version_minor": 0
      },
      "text/plain": [
       "vocab.txt: 0.00B [00:00, ?B/s]"
      ]
     },
     "metadata": {},
     "output_type": "display_data"
    },
    {
     "data": {
      "application/vnd.jupyter.widget-view+json": {
       "model_id": "ba6f1a443c0a4965b60953abc3c5cfe0",
       "version_major": 2,
       "version_minor": 0
      },
      "text/plain": [
       "model.safetensors:   0%|          | 0.00/439M [00:00<?, ?B/s]"
      ]
     },
     "metadata": {},
     "output_type": "display_data"
    },
    {
     "data": {
      "application/vnd.jupyter.widget-view+json": {
       "model_id": "ca12c783349e4ee5adb936ed41a7fbbe",
       "version_major": 2,
       "version_minor": 0
      },
      "text/plain": [
       "special_tokens_map.json:   0%|          | 0.00/112 [00:00<?, ?B/s]"
      ]
     },
     "metadata": {},
     "output_type": "display_data"
    },
    {
     "name": "stderr",
     "output_type": "stream",
     "text": [
      "Device set to use mps:0\n"
     ]
    }
   ],
   "source": [
    "# NER\n",
    "ner_pipeline = pipeline(\"token-classification\", model=\"mrm8488/bert-spanish-cased-finetuned-ner\")"
   ]
  },
  {
   "cell_type": "code",
   "execution_count": 15,
   "id": "94550b08",
   "metadata": {},
   "outputs": [
    {
     "name": "stderr",
     "output_type": "stream",
     "text": [
      "Asking to truncate to max_length but no maximum length is provided and the model has no predefined maximum length. Default to no truncation.\n",
      "/opt/anaconda3/envs/nlp-py313/lib/python3.13/site-packages/torch/nn/modules/module.py:1762: FutureWarning: `encoder_attention_mask` is deprecated and will be removed in version 4.55.0 for `BertSdpaSelfAttention.forward`.\n",
      "  return forward_call(*args, **kwargs)\n"
     ]
    },
    {
     "name": "stdout",
     "output_type": "stream",
     "text": [
      "{'entity': 'B-ORG', 'score': np.float32(0.99355763), 'index': 4, 'word': 'Sam', 'start': 15, 'end': 18}\n",
      "{'entity': 'B-ORG', 'score': np.float32(0.5250632), 'index': 5, 'word': '##su', 'start': 18, 'end': 20}\n",
      "{'entity': 'I-ORG', 'score': np.float32(0.9311909), 'index': 6, 'word': '##ng', 'start': 20, 'end': 22}\n",
      "{'entity': 'I-ORG', 'score': np.float32(0.98734134), 'index': 7, 'word': 'Gala', 'start': 23, 'end': 27}\n",
      "{'entity': 'I-ORG', 'score': np.float32(0.98206973), 'index': 8, 'word': '##xy', 'start': 27, 'end': 29}\n",
      "{'entity': 'I-ORG', 'score': np.float32(0.8131862), 'index': 9, 'word': 'S', 'start': 30, 'end': 31}\n",
      "{'entity': 'I-ORG', 'score': np.float32(0.78243333), 'index': 10, 'word': '##21', 'start': 31, 'end': 33}\n"
     ]
    }
   ],
   "source": [
    "review = \"El producto de Samsung Galaxy S21 llegó el 12 de marzo y superó mis expectativas.\"\n",
    "ner_result = ner_pipeline(review)\n",
    "\n",
    "for result in ner_result:\n",
    "    print(result)"
   ]
  },
  {
   "cell_type": "code",
   "execution_count": 16,
   "id": "f9568fc0",
   "metadata": {},
   "outputs": [],
   "source": [
    "def reconstruct_entity(ner_tokens):\n",
    "    entity = \"\"\n",
    "    for token in ner_tokens:\n",
    "        word = token['word']\n",
    "        if word.startswith(\"##\"):\n",
    "            entity += word[2:]\n",
    "        else:\n",
    "            if entity:\n",
    "                entity += \" \" + word\n",
    "            else:\n",
    "                entity += word\n",
    "    return entity"
   ]
  },
  {
   "cell_type": "code",
   "execution_count": 17,
   "id": "47aec3df",
   "metadata": {},
   "outputs": [
    {
     "name": "stdout",
     "output_type": "stream",
     "text": [
      "entity: Samsung Galaxy S21\n"
     ]
    }
   ],
   "source": [
    "entity_name = reconstruct_entity(ner_result)\n",
    "print(\"entity:\", entity_name)"
   ]
  },
  {
   "cell_type": "code",
   "execution_count": 18,
   "id": "f7e1e551",
   "metadata": {},
   "outputs": [
    {
     "name": "stdout",
     "output_type": "stream",
     "text": [
      "{'entity': 'B-MISC', 'score': np.float32(0.9984775), 'index': 5, 'word': 'H', 'start': 19, 'end': 20}\n",
      "{'entity': 'I-MISC', 'score': np.float32(0.91564894), 'index': 6, 'word': '##P', 'start': 20, 'end': 21}\n",
      "{'entity': 'B-LOC', 'score': np.float32(0.9998977), 'index': 8, 'word': 'Madrid', 'start': 25, 'end': 31}\n",
      "entity: HP Madrid\n"
     ]
    }
   ],
   "source": [
    "review = \"Compré el portátil HP en Madrid, y el servicio de atención al cliente fue excelente.\"\n",
    "ner_result = ner_pipeline(review)\n",
    "\n",
    "for result in ner_result:\n",
    "    print(result)\n",
    "\n",
    "entity_name = reconstruct_entity(ner_result)\n",
    "print(\"entity:\", entity_name)"
   ]
  },
  {
   "cell_type": "code",
   "execution_count": 19,
   "id": "6864cef6",
   "metadata": {},
   "outputs": [
    {
     "name": "stdout",
     "output_type": "stream",
     "text": [
      "{'entity': 'B-MISC', 'score': np.float32(0.9957456), 'index': 3, 'word': 'Can', 'start': 10, 'end': 13}\n",
      "{'entity': 'I-MISC', 'score': np.float32(0.99319434), 'index': 4, 'word': '##on', 'start': 13, 'end': 15}\n",
      "{'entity': 'I-MISC', 'score': np.float32(0.9966273), 'index': 5, 'word': 'E', 'start': 16, 'end': 17}\n",
      "{'entity': 'I-MISC', 'score': np.float32(0.995978), 'index': 6, 'word': '##OS', 'start': 17, 'end': 19}\n",
      "{'entity': 'I-MISC', 'score': np.float32(0.95100576), 'index': 7, 'word': 'Re', 'start': 20, 'end': 22}\n",
      "{'entity': 'I-MISC', 'score': np.float32(0.93761325), 'index': 8, 'word': '##bel', 'start': 22, 'end': 25}\n",
      "entity: Canon EOS Rebel\n"
     ]
    }
   ],
   "source": [
    "review = \"La cámara Canon EOS Rebel tiene una calidad de imagen impresionante, ideal para profesionales.\"\n",
    "ner_result = ner_pipeline(review)\n",
    "\n",
    "for result in ner_result:\n",
    "    print(result)\n",
    "\n",
    "entity_name = reconstruct_entity(ner_result)\n",
    "print(\"entity:\", entity_name)"
   ]
  },
  {
   "cell_type": "code",
   "execution_count": 20,
   "id": "54668a12",
   "metadata": {},
   "outputs": [
    {
     "name": "stdout",
     "output_type": "stream",
     "text": [
      "{'entity': 'B-MISC', 'score': np.float32(0.9961661), 'index': 4, 'word': 'Casi', 'start': 16, 'end': 20}\n",
      "{'entity': 'I-MISC', 'score': np.float32(0.8894443), 'index': 5, 'word': '##o', 'start': 20, 'end': 21}\n",
      "entity: Casio\n"
     ]
    }
   ],
   "source": [
    "review = \"Recibí el reloj Casio a tiempo, pero el embalaje estaba dañado.\"\n",
    "ner_result = ner_pipeline(review)\n",
    "\n",
    "for result in ner_result:\n",
    "    print(result)\n",
    "\n",
    "entity_name = reconstruct_entity(ner_result)\n",
    "print(\"entity:\", entity_name)"
   ]
  },
  {
   "cell_type": "code",
   "execution_count": 21,
   "id": "72a1c30c",
   "metadata": {},
   "outputs": [
    {
     "name": "stdout",
     "output_type": "stream",
     "text": [
      "{'entity': 'B-ORG', 'score': np.float32(0.9954259), 'index': 4, 'word': 'Apple', 'start': 19, 'end': 24}\n",
      "entity: Apple\n"
     ]
    }
   ],
   "source": [
    "review = \"La experiencia con Apple fue innovadora, aunque el precio es bastante elevado.\"\n",
    "ner_result = ner_pipeline(review)\n",
    "\n",
    "for result in ner_result:\n",
    "    print(result)\n",
    "\n",
    "entity_name = reconstruct_entity(ner_result)\n",
    "print(\"entity:\", entity_name)"
   ]
  },
  {
   "cell_type": "code",
   "execution_count": 22,
   "id": "f015bfa4",
   "metadata": {},
   "outputs": [
    {
     "name": "stdout",
     "output_type": "stream",
     "text": [
      "{'entity': 'B-MISC', 'score': np.float32(0.9944628), 'index': 6, 'word': 'DeepSeek', 'start': 32, 'end': 40}\n",
      "entity: DeepSeek\n"
     ]
    }
   ],
   "source": [
    "review = \"Me cuesta entender cómo crearon DeepSeek.\"\n",
    "ner_result = ner_pipeline(review)\n",
    "\n",
    "for result in ner_result:\n",
    "    print(result)\n",
    "\n",
    "entity_name = reconstruct_entity(ner_result)\n",
    "print(\"entity:\", entity_name)"
   ]
  },
  {
   "cell_type": "code",
   "execution_count": null,
   "id": "01d71b2f",
   "metadata": {},
   "outputs": [],
   "source": []
  }
 ],
 "metadata": {
  "kernelspec": {
   "display_name": "nlp-py313",
   "language": "python",
   "name": "python3"
  },
  "language_info": {
   "codemirror_mode": {
    "name": "ipython",
    "version": 3
   },
   "file_extension": ".py",
   "mimetype": "text/x-python",
   "name": "python",
   "nbconvert_exporter": "python",
   "pygments_lexer": "ipython3",
   "version": "3.13.5"
  }
 },
 "nbformat": 4,
 "nbformat_minor": 5
}
